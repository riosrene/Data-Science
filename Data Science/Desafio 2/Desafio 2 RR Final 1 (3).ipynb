{
 "cells": [
  {
   "cell_type": "markdown",
   "metadata": {},
   "source": [
    "# Desafio 2 Properati"
   ]
  },
  {
   "cell_type": "code",
   "execution_count": 2,
   "metadata": {},
   "outputs": [],
   "source": [
    "#Importamos pandas, numpy\n",
    "import numpy as np\n",
    "import pandas as pd\n",
    "import matplotlib.pyplot as plt\n",
    "import seaborn as sns\n",
    "from sklearn import linear_model\n",
    "from sklearn.metrics import r2_score\n",
    "from sklearn.model_selection import train_test_split"
   ]
  },
  {
   "cell_type": "code",
   "execution_count": 46,
   "metadata": {},
   "outputs": [],
   "source": [
    "#Guardamos el path del archivo en una variable para despues cargarlo en un df\n",
    "# Creamos un DataFrame con la info del csv\n",
    "# file = 'C:/Cursos 2019/Data Science/Curso Digital House/properattiLimpia.csv'\n",
    "df = pd.read_csv('prop.csv')"
   ]
  },
  {
   "cell_type": "code",
   "execution_count": 17,
   "metadata": {},
   "outputs": [],
   "source": [
    "# Se crea una nueva variable, porcentaje de superficie cubierta.\n",
    "#df['Porcentaje_Cubierto'] = df['surface_covered_in_m2']/df['surface_total_in_m2']"
   ]
  },
  {
   "cell_type": "code",
   "execution_count": 18,
   "metadata": {
    "scrolled": false
   },
   "outputs": [
    {
     "data": {
      "text/html": [
       "<div>\n",
       "<style scoped>\n",
       "    .dataframe tbody tr th:only-of-type {\n",
       "        vertical-align: middle;\n",
       "    }\n",
       "\n",
       "    .dataframe tbody tr th {\n",
       "        vertical-align: top;\n",
       "    }\n",
       "\n",
       "    .dataframe thead th {\n",
       "        text-align: right;\n",
       "    }\n",
       "</style>\n",
       "<table border=\"1\" class=\"dataframe\">\n",
       "  <thead>\n",
       "    <tr style=\"text-align: right;\">\n",
       "      <th></th>\n",
       "      <th>Unnamed: 0</th>\n",
       "      <th>tipo_inmueble</th>\n",
       "      <th>barrio</th>\n",
       "      <th>localizacion</th>\n",
       "      <th>localidad</th>\n",
       "      <th>id_geoname</th>\n",
       "      <th>latitud</th>\n",
       "      <th>longitud</th>\n",
       "      <th>moneda</th>\n",
       "      <th>precio_usd</th>\n",
       "      <th>sup_total</th>\n",
       "      <th>ambientes</th>\n",
       "      <th>expensas</th>\n",
       "      <th>observaciones</th>\n",
       "      <th>titulo</th>\n",
       "      <th>precio_m2</th>\n",
       "      <th>amb_obs</th>\n",
       "      <th>amb_tit</th>\n",
       "      <th>amb_obse</th>\n",
       "    </tr>\n",
       "  </thead>\n",
       "  <tbody>\n",
       "    <tr>\n",
       "      <th>0</th>\n",
       "      <td>0</td>\n",
       "      <td>PH</td>\n",
       "      <td>Mataderos</td>\n",
       "      <td>|Argentina|Capital Federal|Mataderos|</td>\n",
       "      <td>Capital Federal</td>\n",
       "      <td>3430787.0</td>\n",
       "      <td>-34.661824</td>\n",
       "      <td>-58.508839</td>\n",
       "      <td>USD</td>\n",
       "      <td>62000.0</td>\n",
       "      <td>55.0</td>\n",
       "      <td>2.0</td>\n",
       "      <td>NaN</td>\n",
       "      <td>2 ambientes tipo casa planta baja por pasillo,...</td>\n",
       "      <td>2 amb tipo casa sin expensas en pb</td>\n",
       "      <td>1127.272727</td>\n",
       "      <td>NaN</td>\n",
       "      <td>2</td>\n",
       "      <td>para</td>\n",
       "    </tr>\n",
       "    <tr>\n",
       "      <th>1</th>\n",
       "      <td>1</td>\n",
       "      <td>apartment</td>\n",
       "      <td>La Plata</td>\n",
       "      <td>|Argentina|Bs.As. G.B.A. Zona Sur|La Plata|</td>\n",
       "      <td>Bs.As. G.B.A. Zona Sur</td>\n",
       "      <td>3432039.0</td>\n",
       "      <td>-34.903883</td>\n",
       "      <td>-57.964330</td>\n",
       "      <td>USD</td>\n",
       "      <td>150000.0</td>\n",
       "      <td>NaN</td>\n",
       "      <td>NaN</td>\n",
       "      <td>NaN</td>\n",
       "      <td>venta de departamento en décimo piso al frente...</td>\n",
       "      <td>venta depto 2 dorm. a estrenar 7 e/ 36 y 37   ...</td>\n",
       "      <td>NaN</td>\n",
       "      <td>NaN</td>\n",
       "      <td>NaN</td>\n",
       "      <td>NaN</td>\n",
       "    </tr>\n",
       "    <tr>\n",
       "      <th>2</th>\n",
       "      <td>2</td>\n",
       "      <td>apartment</td>\n",
       "      <td>Mataderos</td>\n",
       "      <td>|Argentina|Capital Federal|Mataderos|</td>\n",
       "      <td>Capital Federal</td>\n",
       "      <td>3430787.0</td>\n",
       "      <td>-34.652262</td>\n",
       "      <td>-58.522982</td>\n",
       "      <td>USD</td>\n",
       "      <td>72000.0</td>\n",
       "      <td>55.0</td>\n",
       "      <td>2.0</td>\n",
       "      <td>NaN</td>\n",
       "      <td>2 ambientes 3er piso lateral living comedor am...</td>\n",
       "      <td>2 amb 3er piso con ascensor apto credito</td>\n",
       "      <td>1309.090909</td>\n",
       "      <td>NaN</td>\n",
       "      <td>2</td>\n",
       "      <td>NaN</td>\n",
       "    </tr>\n",
       "    <tr>\n",
       "      <th>3</th>\n",
       "      <td>3</td>\n",
       "      <td>PH</td>\n",
       "      <td>Liniers</td>\n",
       "      <td>|Argentina|Capital Federal|Liniers|</td>\n",
       "      <td>Capital Federal</td>\n",
       "      <td>3431333.0</td>\n",
       "      <td>-34.647797</td>\n",
       "      <td>-58.516424</td>\n",
       "      <td>USD</td>\n",
       "      <td>95000.0</td>\n",
       "      <td>NaN</td>\n",
       "      <td>3.0</td>\n",
       "      <td>NaN</td>\n",
       "      <td>ph 3 ambientes con patio. hay 3 deptos en lote...</td>\n",
       "      <td>ph 3 amb. cfte. reciclado</td>\n",
       "      <td>NaN</td>\n",
       "      <td>NaN</td>\n",
       "      <td>3</td>\n",
       "      <td>NaN</td>\n",
       "    </tr>\n",
       "    <tr>\n",
       "      <th>4</th>\n",
       "      <td>4</td>\n",
       "      <td>apartment</td>\n",
       "      <td>Mar del Plata</td>\n",
       "      <td>|Argentina|Buenos Aires Costa Atlántica|Mar de...</td>\n",
       "      <td>Buenos Aires Costa Atlántica</td>\n",
       "      <td>3435548.0</td>\n",
       "      <td>-38.002626</td>\n",
       "      <td>-57.549447</td>\n",
       "      <td>USD</td>\n",
       "      <td>64000.0</td>\n",
       "      <td>35.0</td>\n",
       "      <td>2.0</td>\n",
       "      <td>NaN</td>\n",
       "      <td>departamento con fantástica iluminación natura...</td>\n",
       "      <td>depto 2 amb al contrafrente zona centro/plaza ...</td>\n",
       "      <td>1828.571429</td>\n",
       "      <td>NaN</td>\n",
       "      <td>2</td>\n",
       "      <td>NaN</td>\n",
       "    </tr>\n",
       "  </tbody>\n",
       "</table>\n",
       "</div>"
      ],
      "text/plain": [
       "   Unnamed: 0 tipo_inmueble         barrio  \\\n",
       "0           0            PH      Mataderos   \n",
       "1           1     apartment       La Plata   \n",
       "2           2     apartment      Mataderos   \n",
       "3           3            PH        Liniers   \n",
       "4           4     apartment  Mar del Plata   \n",
       "\n",
       "                                        localizacion  \\\n",
       "0              |Argentina|Capital Federal|Mataderos|   \n",
       "1        |Argentina|Bs.As. G.B.A. Zona Sur|La Plata|   \n",
       "2              |Argentina|Capital Federal|Mataderos|   \n",
       "3                |Argentina|Capital Federal|Liniers|   \n",
       "4  |Argentina|Buenos Aires Costa Atlántica|Mar de...   \n",
       "\n",
       "                      localidad  id_geoname    latitud   longitud moneda  \\\n",
       "0               Capital Federal   3430787.0 -34.661824 -58.508839    USD   \n",
       "1        Bs.As. G.B.A. Zona Sur   3432039.0 -34.903883 -57.964330    USD   \n",
       "2               Capital Federal   3430787.0 -34.652262 -58.522982    USD   \n",
       "3               Capital Federal   3431333.0 -34.647797 -58.516424    USD   \n",
       "4  Buenos Aires Costa Atlántica   3435548.0 -38.002626 -57.549447    USD   \n",
       "\n",
       "   precio_usd  sup_total  ambientes  expensas  \\\n",
       "0     62000.0       55.0        2.0       NaN   \n",
       "1    150000.0        NaN        NaN       NaN   \n",
       "2     72000.0       55.0        2.0       NaN   \n",
       "3     95000.0        NaN        3.0       NaN   \n",
       "4     64000.0       35.0        2.0       NaN   \n",
       "\n",
       "                                       observaciones  \\\n",
       "0  2 ambientes tipo casa planta baja por pasillo,...   \n",
       "1  venta de departamento en décimo piso al frente...   \n",
       "2  2 ambientes 3er piso lateral living comedor am...   \n",
       "3  ph 3 ambientes con patio. hay 3 deptos en lote...   \n",
       "4  departamento con fantástica iluminación natura...   \n",
       "\n",
       "                                              titulo    precio_m2  amb_obs  \\\n",
       "0                 2 amb tipo casa sin expensas en pb  1127.272727      NaN   \n",
       "1  venta depto 2 dorm. a estrenar 7 e/ 36 y 37   ...          NaN      NaN   \n",
       "2           2 amb 3er piso con ascensor apto credito  1309.090909      NaN   \n",
       "3                       ph 3 amb. cfte. reciclado             NaN      NaN   \n",
       "4  depto 2 amb al contrafrente zona centro/plaza ...  1828.571429      NaN   \n",
       "\n",
       "  amb_tit amb_obse  \n",
       "0       2     para  \n",
       "1     NaN      NaN  \n",
       "2       2      NaN  \n",
       "3       3      NaN  \n",
       "4       2      NaN  "
      ]
     },
     "execution_count": 18,
     "metadata": {},
     "output_type": "execute_result"
    }
   ],
   "source": [
    "# vemos como que da el Dataframe\n",
    "df.head()"
   ]
  },
  {
   "cell_type": "code",
   "execution_count": 23,
   "metadata": {},
   "outputs": [
    {
     "data": {
      "image/png": "[encoded data removed]",
      "text/plain": [
       "<Figure size 1080x1080 with 2 Axes>"
      ]
     },
     "metadata": {
      "needs_background": "light"
     },
     "output_type": "display_data"
    }
   ],
   "source": [
    "#Como se relacionan las features entre si?\n",
    "#Graficos la matriz de correlacion\n",
    "\n",
    "fig, ax = plt.subplots(figsize=(15,15))       \n",
    "sns.heatmap(df.corr() , square=True, annot=True, ax=ax);"
   ]
  },
  {
   "cell_type": "code",
   "execution_count": 24,
   "metadata": {
    "scrolled": true
   },
   "outputs": [
    {
     "name": "stdout",
     "output_type": "stream",
     "text": [
      "<class 'pandas.core.frame.DataFrame'>\n",
      "RangeIndex: 121217 entries, 0 to 121216\n",
      "Data columns (total 19 columns):\n",
      "Unnamed: 0       121217 non-null int64\n",
      "tipo_inmueble    121217 non-null object\n",
      "barrio           121217 non-null object\n",
      "localizacion     121217 non-null object\n",
      "localidad        121217 non-null object\n",
      "id_geoname       102500 non-null float64\n",
      "latitud          69670 non-null float64\n",
      "longitud         69670 non-null float64\n",
      "moneda           100806 non-null object\n",
      "precio_usd       100807 non-null float64\n",
      "sup_total        108851 non-null float64\n",
      "ambientes        59252 non-null float64\n",
      "expensas         14262 non-null float64\n",
      "observaciones    121215 non-null object\n",
      "titulo           121217 non-null object\n",
      "precio_m2        92925 non-null float64\n",
      "amb_obs          0 non-null float64\n",
      "amb_tit          27529 non-null object\n",
      "amb_obse         10267 non-null object\n",
      "dtypes: float64(9), int64(1), object(9)\n",
      "memory usage: 13.4+ MB\n"
     ]
    }
   ],
   "source": [
    "df.info()"
   ]
  },
  {
   "cell_type": "code",
   "execution_count": 40,
   "metadata": {},
   "outputs": [],
   "source": [
    "# Intentaremos predecir las variables de precios y evaluar los modelos para intentar predecir precio_dls y precio_M2_Dls\n",
    "\n",
    "#df_precio = df.drop(['Precio', 'Precio_ARS','Precio_M2_Dolar', 'Precio_m2'], axis = 1)\n",
    "\n",
    "df_m2 = df.drop(['precio_usd','precio_m2'], axis = 1)"
   ]
  },
  {
   "cell_type": "code",
   "execution_count": 41,
   "metadata": {},
   "outputs": [],
   "source": [
    "#df_precio = df_precio.dropna(axis =0 , how = 'any')\n",
    "df_m2 = df_m2.dropna(axis =0 , how = 'any')"
   ]
  },
  {
   "cell_type": "code",
   "execution_count": 30,
   "metadata": {},
   "outputs": [],
   "source": [
    "#Dataset Precio total\n",
    "#df_precio['Provincia'].value_counts()"
   ]
  },
  {
   "cell_type": "code",
   "execution_count": 42,
   "metadata": {},
   "outputs": [
    {
     "data": {
      "text/plain": [
       "Series([], Name: localidad, dtype: int64)"
      ]
     },
     "execution_count": 42,
     "metadata": {},
     "output_type": "execute_result"
    }
   ],
   "source": [
    "#Dataset Precio m2\n",
    "df_m2['localidad'].value_counts()"
   ]
  },
  {
   "cell_type": "markdown",
   "metadata": {},
   "source": [
    "# Modelado"
   ]
  },
  {
   "cell_type": "code",
   "execution_count": 43,
   "metadata": {},
   "outputs": [],
   "source": [
    "#Creamos variables dummies de las variables categoricas\n",
    "\n",
    "#Provincia\n",
    "#df_precio = pd.concat([df_precio, pd.get_dummies(data = df_precio['Provincia'], prefix= 'prov')], axis = 1)\n",
    "df_m2 = pd.concat([df_m2, pd.get_dummies(data = df_m2['localidad'], prefix= 'prov')], axis = 1)\n",
    "\n",
    "#Barrio\n",
    "#df_precio = pd.concat([df_precio, pd.get_dummies(data = df_precio['Barrio'], prefix= 'barrio')], axis =1)\n",
    "df_m2 = pd.concat([df_m2, pd.get_dummies(data = df_m2['barrio'], prefix= 'barrio')], axis = 1)\n",
    "\n",
    "#Tipo Propiedad\n",
    "#df_precio = pd.concat([df_precio, pd.get_dummies(data = df_precio['Tipo_Propiedad'], prefix= 'tipo_prop')], axis =1)\n",
    "df_m2 = pd.concat([df_m2, pd.get_dummies(data = df_m2['tipo_inmueble'], prefix= 'tipo_prop')], axis = 1)"
   ]
  },
  {
   "cell_type": "code",
   "execution_count": 44,
   "metadata": {},
   "outputs": [],
   "source": [
    "#Dropeo de las columnas originales\n",
    "#df_precio = df_precio.drop(['Provincia','Barrio','Tipo_Propiedad'], axis = 1)\n",
    "df_m2 = df_m2.drop(['localidad','barrio','tipo_inmueble'], axis = 1)"
   ]
  },
  {
   "cell_type": "code",
   "execution_count": 35,
   "metadata": {},
   "outputs": [],
   "source": [
    "# Armar vector objetivo\n",
    "#Separamos nuestra matriz de features\n",
    "\n",
    "#X = df_precio.drop(['precio_usd'], axis = 1)\n",
    "#y = df_precio['precio_usd']"
   ]
  },
  {
   "cell_type": "code",
   "execution_count": 137,
   "metadata": {},
   "outputs": [],
   "source": [
    "#Separamos en train y test\n",
    "#X_train, X_test, y_train, y_test = train_test_split(X, y, test_size=0.25, random_state=1)"
   ]
  },
  {
   "cell_type": "code",
   "execution_count": 36,
   "metadata": {},
   "outputs": [],
   "source": [
    "# Regresion Lineal\n",
    "#Instanciamos el modelo\n",
    "\n",
    "#lm = linear_model.LinearRegression()\n",
    "\n",
    "#Entrenamos el modelo\n",
    "#reg_lineal = lm.fit(X_train, y_train)\n",
    "\n",
    "#Guardamos el score del modelo en una variable para poder comparar\n",
    "#R2_reg_lin_precio = reg_lineal.score(X_test, y_test)\n",
    "\n",
    "#Prediccion con el set de testeo\n",
    "\n",
    "#print('Score de Regresion Lineal:', reg_lineal.score(X_test, y_test))"
   ]
  },
  {
   "cell_type": "code",
   "execution_count": 48,
   "metadata": {},
   "outputs": [],
   "source": [
    "# Como predecir el mismo modelo el precio por metro cuadrado?\n",
    "#Separamos nuestra matriz de features\n",
    "\n",
    "X_m2 = df_m2.drop(['precio_m2'], axis = 1)\n",
    "y_m2 = df_m2['precio_m2']"
   ]
  },
  {
   "cell_type": "code",
   "execution_count": 140,
   "metadata": {},
   "outputs": [],
   "source": [
    "#Separamos en train y test\n",
    "X_train_m2, X_test_m2, y_train_m2, y_test_m2 = train_test_split(X_m2, y_m2, test_size=0.25, random_state=1)"
   ]
  },
  {
   "cell_type": "markdown",
   "metadata": {},
   "source": [
    "# Regresion Lineal"
   ]
  },
  {
   "cell_type": "code",
   "execution_count": 141,
   "metadata": {},
   "outputs": [
    {
     "name": "stdout",
     "output_type": "stream",
     "text": [
      "Score de Regresion Lineal: -107469207799.24103\n"
     ]
    }
   ],
   "source": [
    "#Instanciamos el modelo\n",
    "\n",
    "lm_m2 = linear_model.LinearRegression()\n",
    "\n",
    "#Entrenamos el modelo\n",
    "reg_lineal_m2 = lm_m2.fit(X_train_m2, y_train_m2)\n",
    "\n",
    "#Guardamos el score del modelo en una variable para poder comparar\n",
    "R2_reg_lin_m2 = reg_lineal_m2.score(X_test_m2, y_test_m2)\n",
    "\n",
    "# Prediccion con el set de testeo\n",
    "\n",
    "print('Score de Regresion Lineal:', reg_lineal_m2.score(X_test_m2, y_test_m2))"
   ]
  },
  {
   "cell_type": "code",
   "execution_count": 142,
   "metadata": {},
   "outputs": [
    {
     "name": "stdout",
     "output_type": "stream",
     "text": [
      "R2 Modelo Precio:  -348422334584.1545\n",
      "Ordenada al origen Modelo Precio:  6124250586015.853\n",
      "R2 Modelo Precio_m2:  -107469207799.24103\n",
      "Ordenada al origen Modelo m2:  54571426042.844284\n"
     ]
    }
   ],
   "source": [
    "# Comparar los resultados de los dos modelos\n",
    "\n",
    "print('R2 Modelo Precio: ',R2_reg_lin_precio)\n",
    "print('Ordenada al origen Modelo Precio: ',reg_lineal.intercept_)\n",
    "print('R2 Modelo Precio_m2: ', R2_reg_lin_m2)\n",
    "print('Ordenada al origen Modelo m2: ',reg_lineal_m2.intercept_)"
   ]
  },
  {
   "cell_type": "code",
   "execution_count": null,
   "metadata": {},
   "outputs": [],
   "source": [
    "#Importamos StandardScaler para normalizar las variables\n",
    "from sklearn.preprocessing import StandardScaler\n",
    "scaler_precio = StandardScaler()\n",
    "X_train = scaler_precio.fit_transform(X_train)"
   ]
  },
  {
   "cell_type": "code",
   "execution_count": null,
   "metadata": {},
   "outputs": [],
   "source": [
    "print('media:',np.mean(X_train[:,1]))\n",
    "print('desvio:',np.std(X_train[:,1]))"
   ]
  },
  {
   "cell_type": "markdown",
   "metadata": {},
   "source": [
    "# Regresion Lineal Ridge"
   ]
  },
  {
   "cell_type": "code",
   "execution_count": null,
   "metadata": {},
   "outputs": [],
   "source": [
    "#Instanciamos el modelo\n",
    "\n",
    "lm_ridge =  linear_model.RidgeCV(alphas= np.linspace(0.1, 100, 10), cv=5)\n",
    "\n",
    "#Entrenamos el modelo\n",
    "reg_lineal_ridge = lm_ridge.fit(X_train, y_train)\n",
    "\n",
    "# Lo utilizamos para predecir en test\n",
    "X_test = scaler_precio.transform(X_test)\n",
    "\n",
    "#Guardamos el score en una variable\n",
    "score_ridge_precio = reg_lineal_ridge.score(X_test, y_test)\n",
    "\n",
    "#Prediccion con el set de testeo\n",
    "\n",
    "print('Score del modelo Ridge:', reg_lineal_ridge.score(X_test, y_test))"
   ]
  },
  {
   "cell_type": "markdown",
   "metadata": {},
   "source": [
    "# Como predice el precio en metros cuadrados"
   ]
  },
  {
   "cell_type": "code",
   "execution_count": null,
   "metadata": {},
   "outputs": [],
   "source": [
    "#Normalizamos las features\n",
    "\n",
    "scaler_m2 = StandardScaler()\n",
    "X_train_m2 = scaler_m2.fit_transform(X_train_m2)"
   ]
  },
  {
   "cell_type": "code",
   "execution_count": null,
   "metadata": {},
   "outputs": [],
   "source": [
    "print('media:',np.mean(X_train_m2[:,1]))\n",
    "print('desvio:',np.std(X_train_m2[:,1]))"
   ]
  },
  {
   "cell_type": "code",
   "execution_count": null,
   "metadata": {},
   "outputs": [],
   "source": [
    "#Instanciamos el modelo\n",
    "lm_ridge_m2 =  linear_model.RidgeCV(alphas=np.linspace(0.1, 100, 10), cv=5)\n",
    "\n",
    "#Entrenamos el modelo\n",
    "reg_lineal_ridge_m2 = lm_ridge_m2.fit(X_train_m2, y_train_m2)\n",
    "\n",
    "# Lo utilizamos para predecir en test\n",
    "X_test_m2 = scaler_m2.transform(X_test_m2)\n",
    "\n",
    "score_ridge_m2 = reg_lineal_ridge_m2.score(X_test_m2, y_test_m2)\n",
    "\n",
    "#Prediccion con el set de testeo\n",
    "print('Score del modelo Ridge:', reg_lineal_ridge_m2.score(X_test_m2, y_test_m2))"
   ]
  },
  {
   "cell_type": "markdown",
   "metadata": {},
   "source": [
    "# Comparar resultados de los 2 modelos"
   ]
  },
  {
   "cell_type": "code",
   "execution_count": null,
   "metadata": {},
   "outputs": [],
   "source": [
    "print('Score Ridge Precio: ', score_ridge_precio)\n",
    "print('Alpha Ridge Precio: ', reg_lineal_ridge.alpha_)\n",
    "print('Ordenada al origen Precio: ', reg_lineal_ridge.intercept_)\n",
    "print('Score Ridge m2: ', score_ridge_m2)\n",
    "print('Alpha Ridge m2: ', reg_lineal_ridge_m2.alpha_)\n",
    "print('Ordenada al origen m2: ', reg_lineal_ridge_m2.intercept_)"
   ]
  },
  {
   "cell_type": "markdown",
   "metadata": {},
   "source": [
    "# Regresion Lasso"
   ]
  },
  {
   "cell_type": "code",
   "execution_count": null,
   "metadata": {},
   "outputs": [],
   "source": [
    "#Instanciamos el modelo\n",
    "lm_lasso =  linear_model.LassoCV(alphas=np.linspace(0.1, 100, 10), cv = 5)\n",
    "\n",
    "#Entrenamos el modelo\n",
    "reg_lineal_lasso = lm_lasso.fit(X_train, y_train)\n",
    "\n",
    "#Guardamos el score\n",
    "score_lasso_precio = reg_lineal_lasso.score(X_test, y_test)\n",
    "\n",
    "print('Score del modelo Lasso:', reg_lineal_lasso.score(X_test, y_test))"
   ]
  },
  {
   "cell_type": "markdown",
   "metadata": {},
   "source": [
    "# Como funciona el modelo para el precio en metros cuadrados"
   ]
  },
  {
   "cell_type": "code",
   "execution_count": null,
   "metadata": {},
   "outputs": [],
   "source": [
    "#Instanciamos el modelo\n",
    "lm_lasso_m2 =  linear_model.LassoCV(alphas=np.linspace(0.1, 100, 10), cv = 5)\n",
    "\n",
    "#Entrenamos el modelo\n",
    "reg_lineal_lasso_m2 = lm_lasso_m2.fit(X_train_m2, y_train_m2)\n",
    "\n",
    "#Guardamos el score\n",
    "score_lasso_m2 = reg_lineal_lasso_m2.score(X_test_m2, y_test_m2)\n",
    "\n",
    "print('Score del modelo Lasso:', reg_lineal_lasso_m2.score(X_test_m2, y_test_m2))"
   ]
  },
  {
   "cell_type": "code",
   "execution_count": null,
   "metadata": {},
   "outputs": [],
   "source": [
    "print('Score Lasso Precio: ', score_lasso_precio)\n",
    "print('Ordenada al origen Lasso Precio: ', reg_lineal_lasso.intercept_)\n",
    "print('Alpha Lasso Precio: ', reg_lineal_lasso.alpha_)\n",
    "print('Score Lasso m2: ', score_lasso_m2)\n",
    "print('Ordenada al origen Lasso m2: ', reg_lineal_lasso_m2.intercept_)\n",
    "print('Alpha Lasso m2: ', reg_lineal_lasso_m2.alpha_)"
   ]
  },
  {
   "cell_type": "markdown",
   "metadata": {},
   "source": [
    "# Aplicar Modelos para Capital Federal"
   ]
  },
  {
   "cell_type": "code",
   "execution_count": null,
   "metadata": {},
   "outputs": [],
   "source": [
    "df_cap = df.loc[df['Provincia']=='Capital Federal']"
   ]
  },
  {
   "cell_type": "code",
   "execution_count": null,
   "metadata": {},
   "outputs": [],
   "source": [
    "Cap_precio = df_cap.drop(['Precio', 'Precio_ARS','Precio_m2_Dls', 'Precio_m2'], axis = 1)\n",
    "\n",
    "Cap_m2 = df_cap.drop(['Precio', 'Precio_Dolares','Precio_m2', 'Precio_ARS'], axis = 1)"
   ]
  },
  {
   "cell_type": "code",
   "execution_count": null,
   "metadata": {},
   "outputs": [],
   "source": [
    "Cap_precio = Cap_precio.dropna(axis =0 , how = 'any')\n",
    "Cap_m2 = Cap_m2.dropna(axis =0 , how = 'any')"
   ]
  },
  {
   "cell_type": "code",
   "execution_count": null,
   "metadata": {},
   "outputs": [],
   "source": [
    "#Creamos variables dummies de las variables categoricas\n",
    "\n",
    "#Barrio\n",
    "Cap_precio = pd.concat([Cap_precio, pd.get_dummies(data = Cap_precio['Barrio'], prefix= 'barrio')], axis =1)\n",
    "Cap_m2 = pd.concat([Cap_m2, pd.get_dummies(data = Cap_m2['Barrio'], prefix= 'barrio')], axis = 1)\n",
    "\n",
    "#Tipo Propiedad\n",
    "Cap_precio = pd.concat([Cap_precio, pd.get_dummies(data = Cap_precio['Tipo_Propiedad'], prefix= 'tipo_prop')], axis =1)\n",
    "Cap_m2 = pd.concat([Cap_m2, pd.get_dummies(data = Cap_m2['Tipo_Propiedad'], prefix= 'tipo_prop')], axis = 1)"
   ]
  },
  {
   "cell_type": "code",
   "execution_count": null,
   "metadata": {},
   "outputs": [],
   "source": [
    "#Dropeo de las columnas originales\n",
    "Cap_precio = Cap_precio.drop(['Provincia','Barrio','Tipo_Propiedad'], axis = 1)\n",
    "Cap_m2 = Cap_m2.drop(['Provincia','Barrio','Tipo_Propiedad'], axis = 1)"
   ]
  },
  {
   "cell_type": "code",
   "execution_count": null,
   "metadata": {},
   "outputs": [],
   "source": [
    "Cap_m2 = Cap_m2.drop(['Provincia','Barrio','Tipo_Propiedad'], axis = 1)"
   ]
  },
  {
   "cell_type": "code",
   "execution_count": null,
   "metadata": {},
   "outputs": [],
   "source": [
    "#Separamos en train y test\n",
    "X_train, X_test, y_train, y_test = train_test_split(X_Cap, y_Cap, test_size=0.10, random_state=1)"
   ]
  },
  {
   "cell_type": "markdown",
   "metadata": {},
   "source": [
    "# Regresion Lineal Capital Federal"
   ]
  },
  {
   "cell_type": "code",
   "execution_count": null,
   "metadata": {},
   "outputs": [],
   "source": [
    "#Instanciamos el modelo\n",
    "\n",
    "lm_Cap = linear_model.LinearRegression()\n",
    "\n",
    "#Entrenamos el modelo\n",
    "reg_lineal_Cap = lm_Cap.fit(X_train, y_train)\n",
    "\n",
    "#Guardamos el score del modelo en una variable para poder comparar\n",
    "R2_reg_lin_precio_Cap = reg_lineal_Cap.score(X_test, y_test)\n",
    "\n",
    "#Prediccion con el set de testeo\n",
    "\n",
    "print('Score del Regresion Lineal:', reg_lineal_Cap.score(X_test, y_test))"
   ]
  },
  {
   "cell_type": "code",
   "execution_count": null,
   "metadata": {},
   "outputs": [],
   "source": [
    "# Ci¿omo predice el modelo en precio cuadrado\n",
    "#Separamos nuestra matriz de features\n",
    "\n",
    "X_Cap_m2 = Cap_m2.drop(['Precio_m2_Dls'], axis = 1)\n",
    "y_Cap_m2 = Cap_m2['Precio_m2_Dls']"
   ]
  },
  {
   "cell_type": "code",
   "execution_count": null,
   "metadata": {},
   "outputs": [],
   "source": [
    "#Separamos en train y test\n",
    "X_train_cap_m2, X_test_cap_m2, y_train_cap_m2, y_test_cap_m2 = train_test_split(X_Cap_m2, y_Cap_m2, test_size=0.10, random_state=1)"
   ]
  },
  {
   "cell_type": "code",
   "execution_count": null,
   "metadata": {},
   "outputs": [],
   "source": [
    "#Instanciamos el modelo\n",
    "\n",
    "lm_Cap_m2 = linear_model.LinearRegression()\n",
    "\n",
    "#Entrenamos el modelo\n",
    "reg_lineal_Cap_m2 = lm_Cap_m2.fit(X_train_cap_m2, y_train_cap_m2)\n",
    "\n",
    "#Guardamos el score del modelo en una variable para poder comparar\n",
    "R2_reg_lin_Cap_m2 = reg_lineal_Cap_m2.score(X_test_cap_m2, y_test_cap_m2)\n",
    "\n",
    "#Prediccion con el set de testeo\n",
    "\n",
    "print('Score del Regresion Lineal:', reg_lineal_Cap_m2.score(X_test_cap_m2, y_test_cap_m2))"
   ]
  },
  {
   "cell_type": "markdown",
   "metadata": {},
   "source": [
    "# Regresion Lineal Ridge Capital"
   ]
  },
  {
   "cell_type": "code",
   "execution_count": null,
   "metadata": {},
   "outputs": [],
   "source": [
    "#Normalizamos X_train\n",
    "scaler_precio_cap = StandardScaler()\n",
    "X_train = scaler_precio_cap.fit_transform(X_train)\n",
    "\n",
    "#Chequeamos la media y el desvio\n",
    "print('media:',np.mean(X_train[:,1]))\n",
    "print('desvio:',np.std(X_train[:,1]))"
   ]
  },
  {
   "cell_type": "code",
   "execution_count": null,
   "metadata": {},
   "outputs": [],
   "source": [
    "#Instanciamos el modelo\n",
    "lm_ridge_cap_precio =  linear_model.RidgeCV(alphas= np.linspace(0.1, 100, 10), cv=5)\n",
    "\n",
    "#Entrenamos el modelo\n",
    "reg_lineal_ridge_cap_precio = lm_ridge_cap_precio.fit(X_train, y_train)\n",
    "\n",
    "# Lo utilizamos para predecir en test\n",
    "X_test = scaler_precio_cap.transform(X_test)\n",
    "\n",
    "#Guardamos el score en una variable\n",
    "score_ridge_cap_precio = reg_lineal_ridge_cap_precio.score(X_test, y_test)\n",
    "\n",
    "#Prediccion con el set de testeo\n",
    "print('Score del modelo Ridge:', reg_lineal_ridge_cap_precio.score(X_test, y_test))"
   ]
  },
  {
   "cell_type": "code",
   "execution_count": null,
   "metadata": {},
   "outputs": [],
   "source": [
    "# Como predice el modelo por metro cuadrado\n",
    "#Normalizamos las features\n",
    "\n",
    "scaler_cap_m2 = StandardScaler()\n",
    "X_train_cap_m2 = scaler_cap_m2.fit_transform(X_train_cap_m2)\n",
    "\n",
    "#Chequeamos la media y el desvio\n",
    "print('media:',np.mean(X_train_cap_m2[:,1]))\n",
    "print('desvio:',np.std(X_train_cap_m2[:,1]))"
   ]
  },
  {
   "cell_type": "code",
   "execution_count": null,
   "metadata": {},
   "outputs": [],
   "source": [
    "#Instanciamos el modelo\n",
    "lm_ridge_cap_m2 =  linear_model.RidgeCV(alphas=np.linspace(0.1, 100, 10), cv=5)\n",
    "\n",
    "#Entrenamos el modelo\n",
    "reg_lineal_ridge_cap_m2 = lm_ridge_cap_m2.fit(X_train_cap_m2, y_train_cap_m2)\n",
    "\n",
    "# Lo utilizamos para predecir en test\n",
    "X_test_cap_m2 = scaler_cap_m2.transform(X_test_cap_m2)\n",
    "\n",
    "score_ridge_cap_m2 = reg_lineal_ridge_cap_m2.score(X_test_cap_m2, y_test_cap_m2)\n",
    "\n",
    "#Prediccion con el set de testeo\n",
    "print('Score del modelo Ridge:', reg_lineal_ridge_cap_m2.score(X_test_cap_m2, y_test_cap_m2))"
   ]
  },
  {
   "cell_type": "code",
   "execution_count": null,
   "metadata": {},
   "outputs": [],
   "source": [
    "print('Score Ridge Precio: ', score_ridge_cap_precio)\n",
    "print('Alpha Ridge Precio: ', reg_lineal_ridge_cap_precio.alpha_)\n",
    "print('Score Ridge m2: ', score_ridge_cap_m2)\n",
    "print('Alpha Ridge m2: ', reg_lineal_ridge_cap_m2.alpha_)"
   ]
  },
  {
   "cell_type": "markdown",
   "metadata": {},
   "source": [
    "# Regresion Lasso para Capital"
   ]
  },
  {
   "cell_type": "code",
   "execution_count": null,
   "metadata": {},
   "outputs": [],
   "source": [
    "#Instanciamos el modelo\n",
    "lm_lasso_cap =  linear_model.LassoCV(alphas=np.linspace(0.1, 100, 10), cv = 5)\n",
    "\n",
    "#Entrenamos el modelo\n",
    "reg_lineal_lasso_cap = lm_lasso_cap.fit(X_train, y_train)\n",
    "\n",
    "#Guardamos el score\n",
    "score_lasso_cap_precio = reg_lineal_lasso_cap.score(X_test, y_test)\n",
    "\n",
    "print('Score del modelo Lasso:', reg_lineal_lasso_cap.score(X_test, y_test))"
   ]
  },
  {
   "cell_type": "code",
   "execution_count": null,
   "metadata": {},
   "outputs": [],
   "source": [
    "#Instanciamos el modelo\n",
    "lm_lasso_cap_m2 =  linear_model.LassoCV(alphas=np.linspace(0.1, 100, 10), cv = 5)\n",
    "\n",
    "#Entrenamos el modelo\n",
    "reg_lineal_lasso_cap_m2 = lm_lasso_cap_m2.fit(X_train_m2, y_train_m2)\n",
    "\n",
    "#Guardamos el score\n",
    "score_lasso_cap_m2 = reg_lineal_lasso_cap_m2.score(X_test_m2, y_test_m2)\n",
    "\n",
    "print('Score del modelo Lasso:', reg_lineal_lasso_cap_m2.score(X_test_m2, y_test_m2))"
   ]
  },
  {
   "cell_type": "code",
   "execution_count": null,
   "metadata": {},
   "outputs": [],
   "source": [
    "print('Score Lasso Precio: ', score_lasso_cap_precio)\n",
    "print('Alpha Lasso Precio: ', reg_lineal_lasso_cap.alpha_)\n",
    "print('Score Lasso m2: ', score_lasso_cap_m2)\n",
    "print('Alpha Lasso m2: ', reg_lineal_lasso_cap_m2.alpha_)"
   ]
  },
  {
   "cell_type": "markdown",
   "metadata": {},
   "source": [
    "# Elastic Net para Capital"
   ]
  },
  {
   "cell_type": "code",
   "execution_count": null,
   "metadata": {},
   "outputs": [],
   "source": [
    "#Instanciamos el modelo\n",
    "\n",
    "lm_elastic_net_cap =  linear_model.ElasticNetCV(l1_ratio= [.1, .5, .7, .9, .95, .99, 1],cv = 5)\n",
    "\n",
    "#Entrenamos el modelo\n",
    "elastic_net_cap = lm_elastic_net_cap.fit(X_train, y_train)\n",
    "\n",
    "#Guardamos el score\n",
    "score_EN_cap_precio = elastic_net_cap.score(X_test, y_test)\n",
    "\n",
    "#Prediccion con el set de testeo\n",
    "\n",
    "print('Score del modelo Elastic Net:', elastic_net_cap.score(X_test, y_test))"
   ]
  },
  {
   "cell_type": "code",
   "execution_count": null,
   "metadata": {},
   "outputs": [],
   "source": [
    "#Instanciamos el modelo\n",
    "\n",
    "lm_elastic_net_cap_m2 =  linear_model.ElasticNetCV(l1_ratio= [.1, .5, .7, .9, .95, .99, 1], alphas = [10, 100, 10],cv = 5)\n",
    "\n",
    "#Entrenamos el modelo\n",
    "elastic_net_cap_m2 = lm_elastic_net_cap_m2.fit(X_train_cap_m2, y_train_cap_m2)\n",
    "\n",
    "#Guardamos el score\n",
    "score_EN_cap_m2 = elastic_net_cap_m2.score(X_test_cap_m2, y_test_cap_m2)\n",
    "\n",
    "#Prediccion con el set de testeo\n",
    "\n",
    "print('Score del modelo Elastic Net:', elastic_net_cap_m2.score(X_test_cap_m2, y_test_cap_m2))"
   ]
  },
  {
   "cell_type": "code",
   "execution_count": null,
   "metadata": {},
   "outputs": [],
   "source": [
    "print('Score Elastic Net Precio: ', score_EN_cap_precio)\n",
    "print('Alpha Elastic Net Precio: ', elastic_net_cap.alpha_)\n",
    "print('l1_ratio Elastic Net Precio: ', elastic_net_cap.l1_ratio_)\n",
    "print('Score Elastic Net m2: ', score_EN_cap_m2)\n",
    "print('Alpha Elastic Net m2: ', elastic_net_cap_m2.alpha_)\n",
    "print('l1_ratio Elastic Net m2: ', elastic_net_cap_m2.l1_ratio_)"
   ]
  }
 ],
 "metadata": {
  "kernelspec": {
   "display_name": "Python 3",
   "language": "python",
   "name": "python3"
  },
  "language_info": {
   "codemirror_mode": {
    "name": "ipython",
    "version": 3
   },
   "file_extension": ".py",
   "mimetype": "text/x-python",
   "name": "python",
   "nbconvert_exporter": "python",
   "pygments_lexer": "ipython3",
   "version": "3.7.3"
  }
 },
 "nbformat": 4,
 "nbformat_minor": 2
}
